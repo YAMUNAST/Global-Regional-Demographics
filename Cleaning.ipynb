{
 "cells": [
  {
   "cell_type": "code",
   "execution_count": 9,
   "id": "542732e0-e391-4eb2-8c3e-8f237d7300e4",
   "metadata": {},
   "outputs": [
    {
     "name": "stdout",
     "output_type": "stream",
     "text": [
      "✅ Data cleaning and preprocessing complete. Cleaned data saved to 'cleaned_population_data.csv'.\n"
     ]
    }
   ],
   "source": [
    "import pandas as pd\n",
    "\n",
    "# Load the CSV file\n",
    "df = pd.read_csv(\"population_data.csv\")\n",
    "\n",
    "# Step 1: Remove footnotes from the 'Country or territory' column\n",
    "df['Country or territory'] = df['Country or territory'].str.replace(r\"\\[.*\\]\", \"\", regex=True)\n",
    "\n",
    "# Step 2: Handle missing values\n",
    "# Replace '–' with NaN\n",
    "df.replace(\"–\", pd.NA, inplace=True)\n",
    "\n",
    "# Step 3: Convert data types\n",
    "# Convert population columns to numeric\n",
    "df['Population (1 July 2022)'] = pd.to_numeric(df['Population (1 July 2022)'], errors='coerce')\n",
    "df['Population (1 July 2023)'] = pd.to_numeric(df['Population (1 July 2023)'], errors='coerce')\n",
    "\n",
    "# Convert 'Change (%)' to numeric by removing '%' and handling special minus signs\n",
    "df['Change (%)'] = df['Change (%)'].str.replace('%', '', regex=False)\n",
    "df['Change (%)'] = df['Change (%)'].str.replace('−', '-', regex=False)  # Unicode minus to standard hyphen\n",
    "df['Change (%)'] = df['Change (%)'].str.replace('+', '', regex=False)   # Optional: remove plus signs\n",
    "df['Change (%)'] = pd.to_numeric(df['Change (%)'], errors='coerce')\n",
    "\n",
    "# Step 4: Standardize column names\n",
    "df.columns = [\n",
    "    'Country',\n",
    "    'Population_2022',\n",
    "    'Population_2023',\n",
    "    'Change_Percent',\n",
    "    'UN_Continental_Region',\n",
    "    'UN_Statistical_Subregion'\n",
    "]\n",
    "\n",
    "# Step 5: Remove duplicates\n",
    "df.drop_duplicates(inplace=True)\n",
    "\n",
    "# Step 6: Save the cleaned data to a new CSV file\n",
    "df.to_csv(\"cleaned_population_data.csv\", index=False)\n",
    "\n",
    "print(\"✅ Data cleaning and preprocessing complete. Cleaned data saved to 'cleaned_population_data.csv'.\")\n"
   ]
  },
  {
   "cell_type": "code",
   "execution_count": 1,
   "id": "69a3b1b2-07e6-4846-9e3d-76fef2a8918f",
   "metadata": {},
   "outputs": [
    {
     "name": "stdout",
     "output_type": "stream",
     "text": [
      "Requirement already satisfied: pandas in c:\\mern\\clg\\venv\\lib\\site-packages (2.2.3)\n",
      "Requirement already satisfied: numpy>=1.23.2 in c:\\mern\\clg\\venv\\lib\\site-packages (from pandas) (2.2.5)\n",
      "Requirement already satisfied: python-dateutil>=2.8.2 in c:\\mern\\clg\\venv\\lib\\site-packages (from pandas) (2.9.0.post0)\n",
      "Requirement already satisfied: pytz>=2020.1 in c:\\mern\\clg\\venv\\lib\\site-packages (from pandas) (2025.2)\n",
      "Requirement already satisfied: tzdata>=2022.7 in c:\\mern\\clg\\venv\\lib\\site-packages (from pandas) (2025.2)\n",
      "Requirement already satisfied: six>=1.5 in c:\\mern\\clg\\venv\\lib\\site-packages (from python-dateutil>=2.8.2->pandas) (1.17.0)\n",
      "Note: you may need to restart the kernel to use updated packages.\n"
     ]
    },
    {
     "name": "stderr",
     "output_type": "stream",
     "text": [
      "\n",
      "[notice] A new release of pip available: 22.3 -> 25.1.1\n",
      "[notice] To update, run: python.exe -m pip install --upgrade pip\n"
     ]
    }
   ],
   "source": [
    "pip install pandas"
   ]
  },
  {
   "cell_type": "code",
   "execution_count": 10,
   "id": "6fcc34e9-309f-4d5c-ba3f-3e433bf31738",
   "metadata": {},
   "outputs": [
    {
     "name": "stdout",
     "output_type": "stream",
     "text": [
      "✅ Cleaned data saved to 'cleaned_karnataka_districts_2011.csv'\n"
     ]
    }
   ],
   "source": [
    "import pandas as pd\n",
    "\n",
    "# Load the CSV file\n",
    "df = pd.read_csv(\"karnataka_districts_2011.csv\")\n",
    "\n",
    "# Step 1: Remove 'Sub-District' column (if it exists)\n",
    "if 'Sub-District' in df.columns:\n",
    "    df.drop(columns=['Sub-District'], inplace=True)\n",
    "\n",
    "# Step 2: Replace common placeholders like '–' with NaN\n",
    "df.replace(\"–\", pd.NA, inplace=True)\n",
    "\n",
    "# Step 3: Clean numeric columns (if needed, adjust column names accordingly)\n",
    "# Example: Convert population and area columns to numeric\n",
    "numeric_columns = ['Population', 'Area', 'Density']  # Replace with actual column names\n",
    "for col in numeric_columns:\n",
    "    if col in df.columns:\n",
    "        df[col] = pd.to_numeric(df[col], errors='coerce')\n",
    "\n",
    "# Step 4: Remove footnote references from any relevant columns\n",
    "df.columns = [col.strip().replace(\"[1]\", \"\").replace(\"[a]\", \"\") for col in df.columns]\n",
    "\n",
    "# Step 5: Remove duplicates\n",
    "df.drop_duplicates(inplace=True)\n",
    "\n",
    "# Step 6: Save the cleaned data\n",
    "df.to_csv(\"cleaned_karnataka_districts_2011.csv\", index=False)\n",
    "\n",
    "print(\"✅ Cleaned data saved to 'cleaned_karnataka_districts_2011.csv'\")\n"
   ]
  },
  {
   "cell_type": "code",
   "execution_count": 11,
   "id": "157212cf-f943-48a9-a71e-ccbda8dc85b9",
   "metadata": {},
   "outputs": [
    {
     "name": "stdout",
     "output_type": "stream",
     "text": [
      "Cleaned file saved as: karnataka_districts_2011_cleaned.csv\n"
     ]
    }
   ],
   "source": [
    "import pandas as pd\n",
    "\n",
    "# Load the CSV file\n",
    "file_path = \"karnataka_districts_2011.csv\"\n",
    "df = pd.read_csv(file_path)\n",
    "\n",
    "# Drop the \"Sub-Districts\" column\n",
    "df_cleaned = df.drop(columns=[\"Sub-Districts\"])\n",
    "\n",
    "# Clean percentage columns and convert to float\n",
    "df_cleaned[\"Increase (%)\"] = df_cleaned[\"Increase (%)\"].str.replace('%', '').astype(float)\n",
    "df_cleaned[\"Literacy (%)\"] = df_cleaned[\"Literacy (%)\"].str.replace('%', '').astype(float)\n",
    "\n",
    "# Clean and convert numeric columns\n",
    "df_cleaned[\"Population\"] = df_cleaned[\"Population\"].str.replace(',', '').astype(int)\n",
    "df_cleaned[\"Sex Ratio\"] = df_cleaned[\"Sex Ratio\"].astype(int)\n",
    "df_cleaned[\"Density\"] = df_cleaned[\"Density\"].astype(int)\n",
    "\n",
    "# Save to a new cleaned CSV file\n",
    "cleaned_file_path = \"karnataka_districts_2011_cleaned.csv\"\n",
    "df_cleaned.to_csv(cleaned_file_path, index=False)\n",
    "\n",
    "print(f\"Cleaned file saved as: {cleaned_file_path}\")\n"
   ]
  },
  {
   "cell_type": "code",
   "execution_count": 13,
   "id": "6804c48c-cd02-4fb0-b1c6-3d8765331a69",
   "metadata": {},
   "outputs": [
    {
     "name": "stdout",
     "output_type": "stream",
     "text": [
      "Cleaned file saved as: india_population_2011_cleaned.csv\n"
     ]
    }
   ],
   "source": [
    "import pandas as pd\n",
    "\n",
    "# Load the dataset\n",
    "df = pd.read_csv(\"india_population_2011_corrected.csv\")\n",
    "\n",
    "# Clean 'Literacy Rate' by removing '%' and converting to float\n",
    "df[\"Literacy Rate\"] = df[\"Literacy Rate\"].str.replace('%', '').astype(float)\n",
    "\n",
    "# Clean 'Decade Growth (%)'\n",
    "# Replace non-standard minus sign and remove '%'\n",
    "df[\"Decade Growth (%)\"] = (\n",
    "    df[\"Decade Growth (%)\"]\n",
    "    .str.replace('−', '-')  # Replace non-standard minus with normal one\n",
    "    .str.replace('%', '')   # Remove percent symbol\n",
    "    .astype(float)\n",
    ")\n",
    "\n",
    "# Convert numeric columns to appropriate types\n",
    "numeric_columns = [\n",
    "    \"Population\", \"Male\", \"Female\", \"Rural Population\",\n",
    "    \"Urban Population\", \"Area (km²)\", \"Population Density\"\n",
    "]\n",
    "for col in numeric_columns:\n",
    "    df[col] = df[col].astype(int)\n",
    "\n",
    "# Save cleaned data\n",
    "df.to_csv(\"india_population_2011_cleaned.csv\", index=False)\n",
    "print(\"Cleaned file saved as: india_population_2011_cleaned.csv\")\n"
   ]
  },
  {
   "cell_type": "code",
   "execution_count": null,
   "id": "6d4a7de2-5465-4d05-af97-15ce6fa8f8be",
   "metadata": {},
   "outputs": [],
   "source": []
  }
 ],
 "metadata": {
  "kernelspec": {
   "display_name": "Python 3 (ipykernel)",
   "language": "python",
   "name": "python3"
  },
  "language_info": {
   "codemirror_mode": {
    "name": "ipython",
    "version": 3
   },
   "file_extension": ".py",
   "mimetype": "text/x-python",
   "name": "python",
   "nbconvert_exporter": "python",
   "pygments_lexer": "ipython3",
   "version": "3.11.0"
  }
 },
 "nbformat": 4,
 "nbformat_minor": 5
}
